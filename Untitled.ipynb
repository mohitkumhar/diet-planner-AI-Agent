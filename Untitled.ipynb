{
 "cells": [
  {
   "cell_type": "code",
   "execution_count": 1,
   "id": "04b0ab5b",
   "metadata": {},
   "outputs": [
    {
     "data": {
      "text/plain": [
       "True"
      ]
     },
     "execution_count": 1,
     "metadata": {},
     "output_type": "execute_result"
    }
   ],
   "source": [
    "import os\n",
    "from dotenv import load_dotenv\n",
    "load_dotenv()"
   ]
  },
  {
   "cell_type": "code",
   "execution_count": 2,
   "id": "b28143f7-2fa1-4f6c-bc6c-4b0e7dd16265",
   "metadata": {},
   "outputs": [],
   "source": [
    "from pydantic import BaseModel\n",
    "from langchain_openai import ChatOpenAI\n",
    "\n",
    "from langchain_core.output_parsers import PydanticOutputParser\n",
    "from langchain.prompts import ChatPromptTemplate\n",
    "\n",
    "from langchain.agents import create_tool_calling_agent, AgentExecutor"
   ]
  },
  {
   "cell_type": "code",
   "execution_count": null,
   "id": "6e842d03-df68-445f-ab81-0d105d664831",
   "metadata": {},
   "outputs": [],
   "source": []
  },
  {
   "cell_type": "code",
   "execution_count": null,
   "id": "4f60ed16-6536-4a0c-981a-75ca822b0aea",
   "metadata": {},
   "outputs": [],
   "source": []
  },
  {
   "cell_type": "code",
   "execution_count": 3,
   "id": "259acf0c-7261-4f7b-a13a-1fb742b8b1ed",
   "metadata": {},
   "outputs": [],
   "source": [
    "class dietPlanner(BaseModel):\n",
    "    user_preference: str\n",
    "    food_type: str\n",
    "    budget: str\n",
    "    diet_plan: str    "
   ]
  },
  {
   "cell_type": "code",
   "execution_count": null,
   "id": "cff8c5e0-ce0f-488f-b79c-cf118753b1cf",
   "metadata": {},
   "outputs": [],
   "source": []
  },
  {
   "cell_type": "code",
   "execution_count": 5,
   "id": "cdd3e031-523b-4a08-865c-2a07701226ee",
   "metadata": {},
   "outputs": [],
   "source": [
    "llm = ChatOpenAI(model=\"gpt-4o-mini\", api_key=os.environ['API_KEY'])"
   ]
  },
  {
   "cell_type": "code",
   "execution_count": 6,
   "id": "c9585396-226b-48f8-8f9b-593da404ae20",
   "metadata": {},
   "outputs": [],
   "source": [
    "parser = PydanticOutputParser(pydantic_object=dietPlanner)"
   ]
  },
  {
   "cell_type": "code",
   "execution_count": 7,
   "id": "61341e25-f108-4af6-bf78-7186b5bcfefe",
   "metadata": {},
   "outputs": [],
   "source": [
    "prompt = ChatPromptTemplate.from_messages(\n",
    "    [\n",
    "        (\n",
    "            \"system\",\n",
    "            \"\"\"\n",
    "            You are a professional dietician.\n",
    "            Based on the user's food type, occupation, and budget, prepare a suitable daily diet chart.\n",
    "            Respond ONLY in this format:\\n{format_instructions}\n",
    "            \"\"\"\n",
    "        ),\n",
    "        (\"human\", \"{query}\"),\n",
    "        (\"placeholder\", \"{agent_scratchpad}\")\n",
    "    ]\n",
    ").partial(format_instructions=parser.get_format_instructions())"
   ]
  },
  {
   "cell_type": "code",
   "execution_count": 8,
   "id": "48190008-e998-4f55-b699-e42ff47a0573",
   "metadata": {},
   "outputs": [
    {
     "data": {
      "text/plain": [
       "ChatPromptTemplate(input_variables=['query'], optional_variables=['agent_scratchpad'], input_types={'agent_scratchpad': list[typing.Annotated[typing.Union[typing.Annotated[langchain_core.messages.ai.AIMessage, Tag(tag='ai')], typing.Annotated[langchain_core.messages.human.HumanMessage, Tag(tag='human')], typing.Annotated[langchain_core.messages.chat.ChatMessage, Tag(tag='chat')], typing.Annotated[langchain_core.messages.system.SystemMessage, Tag(tag='system')], typing.Annotated[langchain_core.messages.function.FunctionMessage, Tag(tag='function')], typing.Annotated[langchain_core.messages.tool.ToolMessage, Tag(tag='tool')], typing.Annotated[langchain_core.messages.ai.AIMessageChunk, Tag(tag='AIMessageChunk')], typing.Annotated[langchain_core.messages.human.HumanMessageChunk, Tag(tag='HumanMessageChunk')], typing.Annotated[langchain_core.messages.chat.ChatMessageChunk, Tag(tag='ChatMessageChunk')], typing.Annotated[langchain_core.messages.system.SystemMessageChunk, Tag(tag='SystemMessageChunk')], typing.Annotated[langchain_core.messages.function.FunctionMessageChunk, Tag(tag='FunctionMessageChunk')], typing.Annotated[langchain_core.messages.tool.ToolMessageChunk, Tag(tag='ToolMessageChunk')]], FieldInfo(annotation=NoneType, required=True, discriminator=Discriminator(discriminator=<function _get_type at 0x000001FE525752D0>, custom_error_type=None, custom_error_message=None, custom_error_context=None))]]}, partial_variables={'agent_scratchpad': [], 'format_instructions': 'The output should be formatted as a JSON instance that conforms to the JSON schema below.\\n\\nAs an example, for the schema {\"properties\": {\"foo\": {\"title\": \"Foo\", \"description\": \"a list of strings\", \"type\": \"array\", \"items\": {\"type\": \"string\"}}}, \"required\": [\"foo\"]}\\nthe object {\"foo\": [\"bar\", \"baz\"]} is a well-formatted instance of the schema. The object {\"properties\": {\"foo\": [\"bar\", \"baz\"]}} is not well-formatted.\\n\\nHere is the output schema:\\n```\\n{\"properties\": {\"user_preference\": {\"title\": \"User Preference\", \"type\": \"string\"}, \"food_type\": {\"title\": \"Food Type\", \"type\": \"string\"}, \"budget\": {\"title\": \"Budget\", \"type\": \"string\"}, \"diet_plan\": {\"title\": \"Diet Plan\", \"type\": \"string\"}}, \"required\": [\"user_preference\", \"food_type\", \"budget\", \"diet_plan\"]}\\n```'}, messages=[SystemMessagePromptTemplate(prompt=PromptTemplate(input_variables=['format_instructions'], input_types={}, partial_variables={}, template=\"\\n            You are a professional dietician.\\n            Based on the user's food type, occupation, and budget, prepare a suitable daily diet chart.\\n            Respond ONLY in this format:\\n{format_instructions}\\n            \"), additional_kwargs={}), HumanMessagePromptTemplate(prompt=PromptTemplate(input_variables=['query'], input_types={}, partial_variables={}, template='{query}'), additional_kwargs={}), MessagesPlaceholder(variable_name='agent_scratchpad', optional=True)])"
      ]
     },
     "execution_count": 8,
     "metadata": {},
     "output_type": "execute_result"
    }
   ],
   "source": [
    "prompt"
   ]
  },
  {
   "cell_type": "code",
   "execution_count": 9,
   "id": "bf3f3d05-c805-4c33-aaa3-90dbb9ac8b2c",
   "metadata": {},
   "outputs": [],
   "source": [
    "tools = []"
   ]
  },
  {
   "cell_type": "code",
   "execution_count": 10,
   "id": "9511372f-867f-41a5-b431-0d90b2a43b71",
   "metadata": {},
   "outputs": [],
   "source": [
    "agent = create_tool_calling_agent(\n",
    "    llm=llm,\n",
    "    tools=tools,\n",
    "    prompt=prompt\n",
    ")"
   ]
  },
  {
   "cell_type": "code",
   "execution_count": 11,
   "id": "07d8a307-026e-4c17-9035-811c382eb6ed",
   "metadata": {},
   "outputs": [],
   "source": [
    "agent_executor = AgentExecutor(\n",
    "    agent=agent,\n",
    "    tools=tools,\n",
    "    verbose=True,\n",
    ")"
   ]
  },
  {
   "cell_type": "code",
   "execution_count": 12,
   "id": "e18caa24-a0a7-4bd2-a9ef-20de71e4d31b",
   "metadata": {},
   "outputs": [],
   "source": [
    "query = \"Create me a diet plan of Monday, as I am college Student, its budget should be medium\""
   ]
  },
  {
   "cell_type": "code",
   "execution_count": 13,
   "id": "94ba0e17-17f8-45bd-a36e-a64766ecb9fa",
   "metadata": {},
   "outputs": [
    {
     "name": "stdout",
     "output_type": "stream",
     "text": [
      "\n",
      "\n",
      "\u001b[1m> Entering new AgentExecutor chain...\u001b[0m\n",
      "\u001b[32;1m\u001b[1;3m{\"user_preference\":\"College Student\",\"food_type\":\"Mixed Diet\",\"budget\":\"Medium\",\"diet_plan\":\"Breakfast: Overnight oats with fruits and nuts; Snack: Greek yogurt with honey; Lunch: Grilled chicken salad with quinoa and vegetables; Snack: Hummus with carrot sticks; Dinner: Stir-fried vegetables with tofu and brown rice.\"}\u001b[0m\n",
      "\n",
      "\u001b[1m> Finished chain.\u001b[0m\n"
     ]
    }
   ],
   "source": [
    "raw_response = agent_executor.invoke({\"query\": query})"
   ]
  },
  {
   "cell_type": "code",
   "execution_count": 14,
   "id": "44cc5ebe-a84b-4612-9320-3ef4c2b4c816",
   "metadata": {},
   "outputs": [
    {
     "data": {
      "text/plain": [
       "{'query': 'Create me a diet plan of Monday, as I am college Student, its budget should be medium',\n",
       " 'output': '{\"user_preference\":\"College Student\",\"food_type\":\"Mixed Diet\",\"budget\":\"Medium\",\"diet_plan\":\"Breakfast: Overnight oats with fruits and nuts; Snack: Greek yogurt with honey; Lunch: Grilled chicken salad with quinoa and vegetables; Snack: Hummus with carrot sticks; Dinner: Stir-fried vegetables with tofu and brown rice.\"}'}"
      ]
     },
     "execution_count": 14,
     "metadata": {},
     "output_type": "execute_result"
    }
   ],
   "source": [
    "raw_response"
   ]
  },
  {
   "cell_type": "code",
   "execution_count": 15,
   "id": "1d323232-bf22-4a13-b2a9-d3d133ba0dea",
   "metadata": {},
   "outputs": [],
   "source": [
    "structured_response = parser.parse(raw_response.get('output'))"
   ]
  },
  {
   "cell_type": "code",
   "execution_count": 16,
   "id": "2fd977ad-53cf-41ef-b711-974c18ae679b",
   "metadata": {},
   "outputs": [
    {
     "data": {
      "text/plain": [
       "dietPlanner(user_preference='College Student', food_type='Mixed Diet', budget='Medium', diet_plan='Breakfast: Overnight oats with fruits and nuts; Snack: Greek yogurt with honey; Lunch: Grilled chicken salad with quinoa and vegetables; Snack: Hummus with carrot sticks; Dinner: Stir-fried vegetables with tofu and brown rice.')"
      ]
     },
     "execution_count": 16,
     "metadata": {},
     "output_type": "execute_result"
    }
   ],
   "source": [
    "structured_response"
   ]
  },
  {
   "cell_type": "code",
   "execution_count": 17,
   "id": "7e6b6a27-6872-497f-9efc-108c24f70cdf",
   "metadata": {},
   "outputs": [
    {
     "data": {
      "text/plain": [
       "'College Student'"
      ]
     },
     "execution_count": 17,
     "metadata": {},
     "output_type": "execute_result"
    }
   ],
   "source": [
    "structured_response.user_preference"
   ]
  },
  {
   "cell_type": "code",
   "execution_count": 18,
   "id": "3dc32b57-768e-45d8-9bc9-2472ffff40d8",
   "metadata": {},
   "outputs": [
    {
     "data": {
      "text/plain": [
       "'Mixed Diet'"
      ]
     },
     "execution_count": 18,
     "metadata": {},
     "output_type": "execute_result"
    }
   ],
   "source": [
    "structured_response.food_type"
   ]
  },
  {
   "cell_type": "code",
   "execution_count": 19,
   "id": "d8bf9257-446a-4bc4-98f5-37d6b7ff305c",
   "metadata": {},
   "outputs": [
    {
     "data": {
      "text/plain": [
       "'Medium'"
      ]
     },
     "execution_count": 19,
     "metadata": {},
     "output_type": "execute_result"
    }
   ],
   "source": [
    "structured_response.budget"
   ]
  },
  {
   "cell_type": "code",
   "execution_count": 20,
   "id": "8744c8da-9501-4a1b-a317-3b4686f9ba42",
   "metadata": {},
   "outputs": [
    {
     "data": {
      "text/plain": [
       "'Breakfast: Overnight oats with fruits and nuts; Snack: Greek yogurt with honey; Lunch: Grilled chicken salad with quinoa and vegetables; Snack: Hummus with carrot sticks; Dinner: Stir-fried vegetables with tofu and brown rice.'"
      ]
     },
     "execution_count": 20,
     "metadata": {},
     "output_type": "execute_result"
    }
   ],
   "source": [
    "structured_response.diet_plan"
   ]
  },
  {
   "cell_type": "code",
   "execution_count": null,
   "id": "4c976fae-91ef-4d8d-8a74-f51fda532a92",
   "metadata": {},
   "outputs": [],
   "source": []
  }
 ],
 "metadata": {
  "kernelspec": {
   "display_name": "diet_planner",
   "language": "python",
   "name": "diet_planner"
  },
  "language_info": {
   "codemirror_mode": {
    "name": "ipython",
    "version": 3
   },
   "file_extension": ".py",
   "mimetype": "text/x-python",
   "name": "python",
   "nbconvert_exporter": "python",
   "pygments_lexer": "ipython3",
   "version": "3.10.6"
  }
 },
 "nbformat": 4,
 "nbformat_minor": 5
}
