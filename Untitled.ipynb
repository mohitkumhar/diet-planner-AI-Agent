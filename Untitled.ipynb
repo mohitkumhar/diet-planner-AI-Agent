{
 "cells": [
  {
   "cell_type": "code",
   "execution_count": 1,
   "id": "04b0ab5b",
   "metadata": {},
   "outputs": [
    {
     "data": {
      "text/plain": [
       "True"
      ]
     },
     "execution_count": 1,
     "metadata": {},
     "output_type": "execute_result"
    }
   ],
   "source": [
    "import os\n",
    "from dotenv import load_dotenv\n",
    "load_dotenv()"
   ]
  },
  {
   "cell_type": "code",
   "execution_count": 2,
   "id": "b28143f7-2fa1-4f6c-bc6c-4b0e7dd16265",
   "metadata": {},
   "outputs": [],
   "source": [
    "from pydantic import BaseModel\n",
    "from langchain_openai import ChatOpenAI\n",
    "\n",
    "from langchain_core.output_parsers import PydanticOutputParser\n",
    "from langchain.prompts import ChatPromptTemplate\n",
    "\n",
    "from langchain.agents import create_tool_calling_agent, AgentExecutor"
   ]
  },
  {
   "cell_type": "code",
   "execution_count": 3,
   "id": "6e842d03-df68-445f-ab81-0d105d664831",
   "metadata": {},
   "outputs": [],
   "source": [
    "from tools import fetch_cal"
   ]
  },
  {
   "cell_type": "code",
   "execution_count": null,
   "id": "4f60ed16-6536-4a0c-981a-75ca822b0aea",
   "metadata": {},
   "outputs": [],
   "source": []
  },
  {
   "cell_type": "code",
   "execution_count": 86,
   "id": "259acf0c-7261-4f7b-a13a-1fb742b8b1ed",
   "metadata": {},
   "outputs": [],
   "source": [
    "class dietPlanner(BaseModel):\n",
    "    user_preference: str\n",
    "    food_type: str\n",
    "    budget: str\n",
    "    diet_plan: dict"
   ]
  },
  {
   "cell_type": "code",
   "execution_count": null,
   "id": "cff8c5e0-ce0f-488f-b79c-cf118753b1cf",
   "metadata": {},
   "outputs": [],
   "source": []
  },
  {
   "cell_type": "code",
   "execution_count": 87,
   "id": "cdd3e031-523b-4a08-865c-2a07701226ee",
   "metadata": {},
   "outputs": [],
   "source": [
    "llm = ChatOpenAI(model=\"gpt-4o-mini\", api_key=os.environ['API_KEY'])"
   ]
  },
  {
   "cell_type": "code",
   "execution_count": 88,
   "id": "c9585396-226b-48f8-8f9b-593da404ae20",
   "metadata": {},
   "outputs": [],
   "source": [
    "parser = PydanticOutputParser(pydantic_object=dietPlanner)"
   ]
  },
  {
   "cell_type": "code",
   "execution_count": 7,
   "id": "61341e25-f108-4af6-bf78-7186b5bcfefe",
   "metadata": {},
   "outputs": [],
   "source": [
    "prompt = ChatPromptTemplate.from_messages(\n",
    "    [\n",
    "        (\n",
    "            \"system\",\n",
    "            \"\"\"\n",
    "            You are a professional dietician.\n",
    "            Based on the user's food preference (veg/non-veg), occupation (student/office worker/etc.), and budget (low/medium/high), prepare a suitable **daily diet chart**.\n",
    "        \n",
    "            Use calorie information fetched from the Nutritionix API to ensure the diet is balanced and realistic.\n",
    "        \n",
    "            Ensure:\n",
    "            - Total daily calories are appropriate for the user type.\n",
    "            - Meals include breakfast, lunch, snacks, and dinner.\n",
    "            - For each item, include its approximate calorie count.\n",
    "            - Ensure variety and simplicity in meals.\n",
    "            - Avoid luxury or costly items if budget is low.\n",
    "        \n",
    "            Respond ONLY in this format:\n",
    "            {format_instructions}\n",
    "            \"\"\"\n",
    "        ),\n",
    "        (\"human\", \"{query}\"),\n",
    "        (\"placeholder\", \"{agent_scratchpad}\")\n",
    "    ]\n",
    ").partial(format_instructions=parser.get_format_instructions())"
   ]
  },
  {
   "cell_type": "code",
   "execution_count": 8,
   "id": "48190008-e998-4f55-b699-e42ff47a0573",
   "metadata": {},
   "outputs": [
    {
     "data": {
      "text/plain": [
       "ChatPromptTemplate(input_variables=['query'], optional_variables=['agent_scratchpad'], input_types={'agent_scratchpad': list[typing.Annotated[typing.Union[typing.Annotated[langchain_core.messages.ai.AIMessage, Tag(tag='ai')], typing.Annotated[langchain_core.messages.human.HumanMessage, Tag(tag='human')], typing.Annotated[langchain_core.messages.chat.ChatMessage, Tag(tag='chat')], typing.Annotated[langchain_core.messages.system.SystemMessage, Tag(tag='system')], typing.Annotated[langchain_core.messages.function.FunctionMessage, Tag(tag='function')], typing.Annotated[langchain_core.messages.tool.ToolMessage, Tag(tag='tool')], typing.Annotated[langchain_core.messages.ai.AIMessageChunk, Tag(tag='AIMessageChunk')], typing.Annotated[langchain_core.messages.human.HumanMessageChunk, Tag(tag='HumanMessageChunk')], typing.Annotated[langchain_core.messages.chat.ChatMessageChunk, Tag(tag='ChatMessageChunk')], typing.Annotated[langchain_core.messages.system.SystemMessageChunk, Tag(tag='SystemMessageChunk')], typing.Annotated[langchain_core.messages.function.FunctionMessageChunk, Tag(tag='FunctionMessageChunk')], typing.Annotated[langchain_core.messages.tool.ToolMessageChunk, Tag(tag='ToolMessageChunk')]], FieldInfo(annotation=NoneType, required=True, discriminator=Discriminator(discriminator=<function _get_type at 0x0000021A6CD20160>, custom_error_type=None, custom_error_message=None, custom_error_context=None))]]}, partial_variables={'agent_scratchpad': [], 'format_instructions': 'The output should be formatted as a JSON instance that conforms to the JSON schema below.\\n\\nAs an example, for the schema {\"properties\": {\"foo\": {\"title\": \"Foo\", \"description\": \"a list of strings\", \"type\": \"array\", \"items\": {\"type\": \"string\"}}}, \"required\": [\"foo\"]}\\nthe object {\"foo\": [\"bar\", \"baz\"]} is a well-formatted instance of the schema. The object {\"properties\": {\"foo\": [\"bar\", \"baz\"]}} is not well-formatted.\\n\\nHere is the output schema:\\n```\\n{\"properties\": {\"user_preference\": {\"title\": \"User Preference\", \"type\": \"string\"}, \"food_type\": {\"title\": \"Food Type\", \"type\": \"string\"}, \"budget\": {\"title\": \"Budget\", \"type\": \"string\"}, \"diet_plan\": {\"title\": \"Diet Plan\", \"type\": \"string\"}}, \"required\": [\"user_preference\", \"food_type\", \"budget\", \"diet_plan\"]}\\n```'}, messages=[SystemMessagePromptTemplate(prompt=PromptTemplate(input_variables=['format_instructions'], input_types={}, partial_variables={}, template=\"\\n            You are a professional dietician.\\n            Based on the user's food preference (veg/non-veg), occupation (student/office worker/etc.), and budget (low/medium/high), prepare a suitable **daily diet chart**.\\n        \\n            Use calorie information fetched from the Nutritionix API to ensure the diet is balanced and realistic.\\n        \\n            Ensure:\\n            - Total daily calories are appropriate for the user type.\\n            - Meals include breakfast, lunch, snacks, and dinner.\\n            - For each item, include its approximate calorie count.\\n            - Ensure variety and simplicity in meals.\\n            - Avoid luxury or costly items if budget is low.\\n        \\n            Respond ONLY in this format:\\n            {format_instructions}\\n            \"), additional_kwargs={}), HumanMessagePromptTemplate(prompt=PromptTemplate(input_variables=['query'], input_types={}, partial_variables={}, template='{query}'), additional_kwargs={}), MessagesPlaceholder(variable_name='agent_scratchpad', optional=True)])"
      ]
     },
     "execution_count": 8,
     "metadata": {},
     "output_type": "execute_result"
    }
   ],
   "source": [
    "prompt"
   ]
  },
  {
   "cell_type": "code",
   "execution_count": 9,
   "id": "bf3f3d05-c805-4c33-aaa3-90dbb9ac8b2c",
   "metadata": {},
   "outputs": [],
   "source": [
    "tools = [fetch_cal]"
   ]
  },
  {
   "cell_type": "code",
   "execution_count": 10,
   "id": "9511372f-867f-41a5-b431-0d90b2a43b71",
   "metadata": {},
   "outputs": [],
   "source": [
    "agent = create_tool_calling_agent(\n",
    "    llm=llm,\n",
    "    tools=tools,\n",
    "    prompt=prompt\n",
    ")"
   ]
  },
  {
   "cell_type": "code",
   "execution_count": 11,
   "id": "07d8a307-026e-4c17-9035-811c382eb6ed",
   "metadata": {},
   "outputs": [],
   "source": [
    "agent_executor = AgentExecutor(\n",
    "    agent=agent,\n",
    "    tools=tools,\n",
    "    verbose=True,\n",
    ")"
   ]
  },
  {
   "cell_type": "code",
   "execution_count": 12,
   "id": "e18caa24-a0a7-4bd2-a9ef-20de71e4d31b",
   "metadata": {},
   "outputs": [],
   "source": [
    "query = \"Create me a diet plan of Monday, as I am college Student, its budget should be medium\""
   ]
  },
  {
   "cell_type": "code",
   "execution_count": 13,
   "id": "94ba0e17-17f8-45bd-a36e-a64766ecb9fa",
   "metadata": {},
   "outputs": [
    {
     "name": "stdout",
     "output_type": "stream",
     "text": [
      "\n",
      "\n",
      "\u001b[1m> Entering new AgentExecutor chain...\u001b[0m\n",
      "\u001b[32;1m\u001b[1;3m\n",
      "Invoking: `featch_food_calorie` with `Oatmeal with banana`\n",
      "\n",
      "\n",
      "\u001b[0m\u001b[36;1m\u001b[1;3m{'foods': [{'food_name': 'oatmeal', 'brand_name': None, 'serving_qty': 1, 'serving_unit': 'cup', 'serving_weight_grams': 234, 'nf_calories': 166.14, 'nf_total_fat': 3.56, 'nf_saturated_fat': 0.73, 'nf_cholesterol': 0, 'nf_sodium': 9.36, 'nf_total_carbohydrate': 28.08, 'nf_dietary_fiber': 3.98, 'nf_sugars': 0.63, 'nf_protein': 5.94, 'nf_potassium': 163.8, 'nf_p': 180.18, 'full_nutrients': [{'attr_id': 203, 'value': 5.9436}, {'attr_id': 204, 'value': 3.5568}, {'attr_id': 205, 'value': 28.08}, {'attr_id': 207, 'value': 0.7956}, {'attr_id': 208, 'value': 166.14}, {'attr_id': 209, 'value': 27.144}, {'attr_id': 210, 'value': 0.585}, {'attr_id': 211, 'value': 0}, {'attr_id': 212, 'value': 0}, {'attr_id': 213, 'value': 0}, {'attr_id': 214, 'value': 0}, {'attr_id': 221, 'value': 0}, {'attr_id': 255, 'value': 195.6474}, {'attr_id': 262, 'value': 0}, {'attr_id': 263, 'value': 0}, {'attr_id': 268, 'value': 694.98}, {'attr_id': 269, 'value': 0.6318}, {'attr_id': 287, 'value': 0.0468}, {'attr_id': 291, 'value': 3.978}, {'attr_id': 301, 'value': 21.06}, {'attr_id': 303, 'value': 2.106}, {'attr_id': 304, 'value': 63.18}, {'attr_id': 305, 'value': 180.18}, {'attr_id': 306, 'value': 163.8}, {'attr_id': 307, 'value': 9.36}, {'attr_id': 309, 'value': 2.34}, {'attr_id': 312, 'value': 0.1732}, {'attr_id': 313, 'value': 167.544}, {'attr_id': 315, 'value': 1.3572}, {'attr_id': 317, 'value': 12.636}, {'attr_id': 318, 'value': 0}, {'attr_id': 319, 'value': 0}, {'attr_id': 320, 'value': 0}, {'attr_id': 321, 'value': 0}, {'attr_id': 322, 'value': 0}, {'attr_id': 323, 'value': 0.1872}, {'attr_id': 324, 'value': 0}, {'attr_id': 328, 'value': 0}, {'attr_id': 334, 'value': 0}, {'attr_id': 337, 'value': 0}, {'attr_id': 338, 'value': 421.2}, {'attr_id': 341, 'value': 0.0234}, {'attr_id': 342, 'value': 0.0702}, {'attr_id': 343, 'value': 0}, {'attr_id': 344, 'value': 0.4914}, {'attr_id': 345, 'value': 0}, {'attr_id': 346, 'value': 0}, {'attr_id': 347, 'value': 0}, {'attr_id': 401, 'value': 0}, {'attr_id': 404, 'value': 0.1778}, {'attr_id': 405, 'value': 0.0374}, {'attr_id': 406, 'value': 0.5265}, {'attr_id': 410, 'value': 0.7277}, {'attr_id': 415, 'value': 0.0117}, {'attr_id': 417, 'value': 14.04}, {'attr_id': 418, 'value': 0}, {'attr_id': 421, 'value': 17.316}, {'attr_id': 429, 'value': 0}, {'attr_id': 430, 'value': 0.702}, {'attr_id': 431, 'value': 0}, {'attr_id': 432, 'value': 14.04}, {'attr_id': 435, 'value': 14.04}, {'attr_id': 454, 'value': 7.254}, {'attr_id': 501, 'value': 0.0936}, {'attr_id': 502, 'value': 0.2246}, {'attr_id': 503, 'value': 0.2714}, {'attr_id': 504, 'value': 0.5054}, {'attr_id': 505, 'value': 0.3159}, {'attr_id': 506, 'value': 0.1076}, {'attr_id': 507, 'value': 0.227}, {'attr_id': 508, 'value': 0.3323}, {'attr_id': 509, 'value': 0.2363}, {'attr_id': 510, 'value': 0.3744}, {'attr_id': 511, 'value': 0.3908}, {'attr_id': 512, 'value': 0.1264}, {'attr_id': 513, 'value': 0.2902}, {'attr_id': 514, 'value': 0.7067}, {'attr_id': 515, 'value': 1.4578}, {'attr_id': 516, 'value': 0.344}, {'attr_id': 517, 'value': 0.2246}, {'attr_id': 518, 'value': 0.3533}, {'attr_id': 601, 'value': 0}, {'attr_id': 605, 'value': 0.0023}, {'attr_id': 606, 'value': 0.7254}, {'attr_id': 607, 'value': 0}, {'attr_id': 608, 'value': 0}, {'attr_id': 609, 'value': 0}, {'attr_id': 610, 'value': 0}, {'attr_id': 611, 'value': 0}, {'attr_id': 612, 'value': 0.0117}, {'attr_id': 613, 'value': 0.6552}, {'attr_id': 614, 'value': 0.0491}, {'attr_id': 615, 'value': 0.0047}, {'attr_id': 617, 'value': 0.9875}, {'attr_id': 618, 'value': 1.2659}, {'attr_id': 619, 'value': 0.0421}, {'attr_id': 620, 'value': 0}, {'attr_id': 621, 'value': 0}, {'attr_id': 624, 'value': 0.0047}, {'attr_id': 625, 'value': 0}, {'attr_id': 626, 'value': 0.007}, {'attr_id': 627, 'value': 0}, {'attr_id': 628, 'value': 0.0234}, {'attr_id': 629, 'value': 0}, {'attr_id': 630, 'value': 0}, {'attr_id': 631, 'value': 0}, {'attr_id': 645, 'value': 1.0179}, {'attr_id': 646, 'value': 1.3081}, {'attr_id': 652, 'value': 0}, {'attr_id': 653, 'value': 0.0023}, {'attr_id': 663, 'value': 0}, {'attr_id': 673, 'value': 0.007}, {'attr_id': 674, 'value': 0.9875}, {'attr_id': 675, 'value': 1.2636}, {'attr_id': 687, 'value': 0}, {'attr_id': 693, 'value': 0}, {'attr_id': 695, 'value': 0.0023}, {'attr_id': 851, 'value': 0.0421}], 'nix_brand_name': None, 'nix_brand_id': None, 'nix_item_name': None, 'nix_item_id': None, 'upc': None, 'consumed_at': '2025-06-24T09:10:50+00:00', 'metadata': {'is_raw_food': False}, 'source': 1, 'ndb_no': 8121, 'tags': {'item': 'oatmeal', 'measure': None, 'quantity': '1.0', 'food_group': 8, 'tag_id': 87}, 'alt_measures': [{'serving_weight': 234, 'measure': 'cup', 'seq': 1, 'qty': 1}, {'serving_weight': 14.6, 'measure': 'tbsp', 'seq': 2, 'qty': 1}, {'serving_weight': 175, 'measure': 'cup', 'seq': 3, 'qty': 0.75}, {'serving_weight': 141, 'measure': 'packet', 'seq': 80, 'qty': 1}, {'serving_weight': 100, 'measure': 'g', 'seq': None, 'qty': 100}, {'serving_weight': 28.3495, 'measure': 'wt. oz', 'seq': None, 'qty': 1}, {'serving_weight': 4.88, 'measure': 'tsp', 'seq': 101, 'qty': 1}], 'lat': None, 'lng': None, 'meal_type': 1, 'photo': {'thumb': 'https://nix-tag-images.s3.amazonaws.com/87_thumb.jpg', 'highres': 'https://nix-tag-images.s3.amazonaws.com/87_highres.jpg', 'is_user_uploaded': False}, 'sub_recipe': None, 'class_code': None, 'brick_code': None, 'tag_id': None}, {'food_name': 'banana', 'brand_name': None, 'serving_qty': 1, 'serving_unit': 'medium (7\" to 7-7/8\" long)', 'serving_weight_grams': 118, 'nf_calories': 105.02, 'nf_total_fat': 0.39, 'nf_saturated_fat': 0.13, 'nf_cholesterol': 0, 'nf_sodium': 1.18, 'nf_total_carbohydrate': 26.95, 'nf_dietary_fiber': 3.07, 'nf_sugars': 14.43, 'nf_protein': 1.29, 'nf_potassium': 422.44, 'nf_p': 25.96, 'full_nutrients': [{'attr_id': 203, 'value': 1.2862}, {'attr_id': 204, 'value': 0.3894}, {'attr_id': 205, 'value': 26.9512}, {'attr_id': 207, 'value': 0.9676}, {'attr_id': 208, 'value': 105.02}, {'attr_id': 209, 'value': 6.3484}, {'attr_id': 210, 'value': 2.8202}, {'attr_id': 211, 'value': 5.8764}, {'attr_id': 212, 'value': 5.723}, {'attr_id': 213, 'value': 0}, {'attr_id': 214, 'value': 0.0118}, {'attr_id': 221, 'value': 0}, {'attr_id': 255, 'value': 88.3938}, {'attr_id': 262, 'value': 0}, {'attr_id': 263, 'value': 0}, {'attr_id': 268, 'value': 437.78}, {'attr_id': 269, 'value': 14.4314}, {'attr_id': 287, 'value': 0}, {'attr_id': 291, 'value': 3.068}, {'attr_id': 301, 'value': 5.9}, {'attr_id': 303, 'value': 0.3068}, {'attr_id': 304, 'value': 31.86}, {'attr_id': 305, 'value': 25.96}, {'attr_id': 306, 'value': 422.44}, {'attr_id': 307, 'value': 1.18}, {'attr_id': 309, 'value': 0.177}, {'attr_id': 312, 'value': 0.092}, {'attr_id': 313, 'value': 2.596}, {'attr_id': 315, 'value': 0.3186}, {'attr_id': 317, 'value': 1.18}, {'attr_id': 318, 'value': 75.52}, {'attr_id': 319, 'value': 0}, {'attr_id': 320, 'value': 3.54}, {'attr_id': 321, 'value': 30.68}, {'attr_id': 322, 'value': 29.5}, {'attr_id': 323, 'value': 0.118}, {'attr_id': 324, 'value': 0}, {'attr_id': 328, 'value': 0}, {'attr_id': 334, 'value': 0}, {'attr_id': 337, 'value': 0}, {'attr_id': 338, 'value': 25.96}, {'attr_id': 341, 'value': 0}, {'attr_id': 342, 'value': 0.0236}, {'attr_id': 343, 'value': 0.0118}, {'attr_id': 344, 'value': 0.0708}, {'attr_id': 345, 'value': 0}, {'attr_id': 346, 'value': 0}, {'attr_id': 347, 'value': 0}, {'attr_id': 401, 'value': 10.266}, {'attr_id': 404, 'value': 0.0366}, {'attr_id': 405, 'value': 0.0861}, {'attr_id': 406, 'value': 0.7847}, {'attr_id': 410, 'value': 0.3941}, {'attr_id': 415, 'value': 0.4331}, {'attr_id': 417, 'value': 23.6}, {'attr_id': 418, 'value': 0}, {'attr_id': 421, 'value': 11.564}, {'attr_id': 429, 'value': 0}, {'attr_id': 430, 'value': 0.59}, {'attr_id': 431, 'value': 0}, {'attr_id': 432, 'value': 23.6}, {'attr_id': 435, 'value': 23.6}, {'attr_id': 454, 'value': 0.118}, {'attr_id': 501, 'value': 0.0106}, {'attr_id': 502, 'value': 0.033}, {'attr_id': 503, 'value': 0.033}, {'attr_id': 504, 'value': 0.0802}, {'attr_id': 505, 'value': 0.059}, {'attr_id': 506, 'value': 0.0094}, {'attr_id': 507, 'value': 0.0106}, {'attr_id': 508, 'value': 0.0578}, {'attr_id': 509, 'value': 0.0106}, {'attr_id': 510, 'value': 0.0555}, {'attr_id': 511, 'value': 0.0578}, {'attr_id': 512, 'value': 0.0909}, {'attr_id': 513, 'value': 0.0472}, {'attr_id': 514, 'value': 0.1463}, {'attr_id': 515, 'value': 0.1794}, {'attr_id': 516, 'value': 0.0448}, {'attr_id': 517, 'value': 0.033}, {'attr_id': 518, 'value': 0.0472}, {'attr_id': 601, 'value': 0}, {'attr_id': 605, 'value': 0}, {'attr_id': 606, 'value': 0.1322}, {'attr_id': 607, 'value': 0}, {'attr_id': 608, 'value': 0}, {'attr_id': 609, 'value': 0}, {'attr_id': 610, 'value': 0.0012}, {'attr_id': 611, 'value': 0.0024}, {'attr_id': 612, 'value': 0.0024}, {'attr_id': 613, 'value': 0.1204}, {'attr_id': 614, 'value': 0.0059}, {'attr_id': 617, 'value': 0.026}, {'attr_id': 618, 'value': 0.0543}, {'attr_id': 619, 'value': 0.0319}, {'attr_id': 620, 'value': 0}, {'attr_id': 621, 'value': 0}, {'attr_id': 626, 'value': 0.0118}, {'attr_id': 627, 'value': 0}, {'attr_id': 628, 'value': 0}, {'attr_id': 629, 'value': 0}, {'attr_id': 630, 'value': 0}, {'attr_id': 631, 'value': 0}, {'attr_id': 636, 'value': 18.88}, {'attr_id': 645, 'value': 0.0378}, {'attr_id': 646, 'value': 0.0861}], 'nix_brand_name': None, 'nix_brand_id': None, 'nix_item_name': None, 'nix_item_id': None, 'upc': None, 'consumed_at': '2025-06-24T09:10:50+00:00', 'metadata': {'is_raw_food': False}, 'source': 1, 'ndb_no': 9040, 'tags': {'item': 'banana', 'measure': None, 'quantity': '1.0', 'food_group': 3, 'tag_id': 399}, 'alt_measures': [{'serving_weight': 225, 'measure': 'cup, mashed', 'seq': 1, 'qty': 1}, {'serving_weight': 150, 'measure': 'cup, sliced', 'seq': 2, 'qty': 1}, {'serving_weight': 81, 'measure': 'extra small (less than 6\" long)', 'seq': 3, 'qty': 1}, {'serving_weight': 101, 'measure': 'small (6\" to 6-7/8\" long)', 'seq': 4, 'qty': 1}, {'serving_weight': 118, 'measure': 'medium (7\" to 7-7/8\" long)', 'seq': 5, 'qty': 1}, {'serving_weight': 136, 'measure': 'large (8\" to 8-7/8\" long)', 'seq': 6, 'qty': 1}, {'serving_weight': 152, 'measure': 'extra large (9\" or longer)', 'seq': 7, 'qty': 1}, {'serving_weight': 126, 'measure': 'NLEA serving', 'seq': 8, 'qty': 1}, {'serving_weight': 28.35, 'measure': 'oz', 'seq': 80, 'qty': 1}, {'serving_weight': 100, 'measure': 'g', 'seq': None, 'qty': 100}], 'lat': None, 'lng': None, 'meal_type': 1, 'photo': {'thumb': 'https://nix-tag-images.s3.amazonaws.com/399_thumb.jpg', 'highres': 'https://nix-tag-images.s3.amazonaws.com/399_highres.jpg', 'is_user_uploaded': False}, 'sub_recipe': None, 'class_code': None, 'brick_code': None, 'tag_id': None}]}\u001b[0m\u001b[32;1m\u001b[1;3m\n",
      "Invoking: `featch_food_calorie` with `Grilled chicken salad`\n",
      "\n",
      "\n",
      "\u001b[0m\u001b[36;1m\u001b[1;3m{'foods': [{'food_name': 'grilled chicken salad', 'brand_name': None, 'serving_qty': 1, 'serving_unit': 'salad with dressing', 'serving_weight_grams': 242.5, 'nf_calories': 302.5, 'nf_total_fat': 16.95, 'nf_saturated_fat': 3.12, 'nf_cholesterol': 112.92, 'nf_sodium': 517.17, 'nf_total_carbohydrate': 7.64, 'nf_dietary_fiber': 2.16, 'nf_sugars': 4.18, 'nf_protein': 31.03, 'nf_potassium': 704.84, 'nf_p': 335.96, 'full_nutrients': [{'attr_id': 203, 'value': 31.0255}, {'attr_id': 204, 'value': 16.9538}, {'attr_id': 205, 'value': 7.6351}, {'attr_id': 207, 'value': 3.1813}, {'attr_id': 208, 'value': 302.4958}, {'attr_id': 209, 'value': 0.4868}, {'attr_id': 210, 'value': 1.4963}, {'attr_id': 211, 'value': 1.1183}, {'attr_id': 212, 'value': 1.1491}, {'attr_id': 213, 'value': 0.405}, {'attr_id': 214, 'value': 0}, {'attr_id': 221, 'value': 0}, {'attr_id': 255, 'value': 184.8018}, {'attr_id': 262, 'value': 0}, {'attr_id': 263, 'value': 0}, {'attr_id': 268, 'value': 1267.3665}, {'attr_id': 269, 'value': 4.1818}, {'attr_id': 287, 'value': 0.0029}, {'attr_id': 291, 'value': 2.1621}, {'attr_id': 301, 'value': 53.6777}, {'attr_id': 303, 'value': 1.3331}, {'attr_id': 304, 'value': 48.2403}, {'attr_id': 305, 'value': 335.955}, {'attr_id': 306, 'value': 704.8427}, {'attr_id': 307, 'value': 517.173}, {'attr_id': 309, 'value': 1.1049}, {'attr_id': 312, 'value': 0.0794}, {'attr_id': 313, 'value': 0.7066}, {'attr_id': 315, 'value': 0.2493}, {'attr_id': 317, 'value': 43.5234}, {'attr_id': 318, 'value': 7931.2921}, {'attr_id': 319, 'value': 13.8167}, {'attr_id': 320, 'value': 408.375}, {'attr_id': 321, 'value': 4347.1872}, {'attr_id': 322, 'value': 768.6887}, {'attr_id': 323, 'value': 1.3396}, {'attr_id': 324, 'value': 1.8917}, {'attr_id': 325, 'value': 0}, {'attr_id': 326, 'value': 0.03}, {'attr_id': 328, 'value': 0.03}, {'attr_id': 334, 'value': 0.3}, {'attr_id': 337, 'value': 4.6373}, {'attr_id': 338, 'value': 1445.5193}, {'attr_id': 341, 'value': 0.1132}, {'attr_id': 342, 'value': 9.3873}, {'attr_id': 343, 'value': 2.6466}, {'attr_id': 344, 'value': 0.0133}, {'attr_id': 345, 'value': 0}, {'attr_id': 346, 'value': 0}, {'attr_id': 347, 'value': 0}, {'attr_id': 401, 'value': 18.2438}, {'attr_id': 404, 'value': 0.1542}, {'attr_id': 405, 'value': 0.3228}, {'attr_id': 406, 'value': 11.5006}, {'attr_id': 410, 'value': 1.7299}, {'attr_id': 415, 'value': 1.1126}, {'attr_id': 417, 'value': 59.8644}, {'attr_id': 418, 'value': 0.2493}, {'attr_id': 421, 'value': 129.5945}, {'attr_id': 429, 'value': 0}, {'attr_id': 430, 'value': 121.5921}, {'attr_id': 431, 'value': 0}, {'attr_id': 432, 'value': 59.8644}, {'attr_id': 435, 'value': 59.8644}, {'attr_id': 454, 'value': 6.8856}, {'attr_id': 501, 'value': 0.3815}, {'attr_id': 502, 'value': 1.3944}, {'attr_id': 503, 'value': 1.4962}, {'attr_id': 504, 'value': 2.4986}, {'attr_id': 505, 'value': 2.8886}, {'attr_id': 506, 'value': 0.7776}, {'attr_id': 507, 'value': 0.3344}, {'attr_id': 508, 'value': 1.2378}, {'attr_id': 509, 'value': 1.0848}, {'attr_id': 510, 'value': 1.5777}, {'attr_id': 511, 'value': 2.0525}, {'attr_id': 512, 'value': 1.1183}, {'attr_id': 513, 'value': 1.7776}, {'attr_id': 514, 'value': 2.9195}, {'attr_id': 515, 'value': 4.6194}, {'attr_id': 516, 'value': 1.3436}, {'attr_id': 517, 'value': 0.9791}, {'attr_id': 518, 'value': 1.1688}, {'attr_id': 521, 'value': 0}, {'attr_id': 601, 'value': 112.9167}, {'attr_id': 605, 'value': 0.0675}, {'attr_id': 606, 'value': 3.1244}, {'attr_id': 607, 'value': 0.0018}, {'attr_id': 608, 'value': 0.0012}, {'attr_id': 609, 'value': 0.0111}, {'attr_id': 610, 'value': 0.0257}, {'attr_id': 611, 'value': 0.0091}, {'attr_id': 612, 'value': 0.0395}, {'attr_id': 613, 'value': 2.1452}, {'attr_id': 614, 'value': 0.7767}, {'attr_id': 615, 'value': 0.0425}, {'attr_id': 617, 'value': 3.8127}, {'attr_id': 618, 'value': 7.3135}, {'attr_id': 619, 'value': 1.11}, {'attr_id': 620, 'value': 0.0777}, {'attr_id': 621, 'value': 0.0081}, {'attr_id': 624, 'value': 0.0439}, {'attr_id': 625, 'value': 0.005}, {'attr_id': 626, 'value': 0.1893}, {'attr_id': 627, 'value': 0}, {'attr_id': 628, 'value': 0.0557}, {'attr_id': 629, 'value': 0.003}, {'attr_id': 630, 'value': 0.0144}, {'attr_id': 631, 'value': 0.0079}, {'attr_id': 636, 'value': 10.8624}, {'attr_id': 645, 'value': 4.0859}, {'attr_id': 646, 'value': 8.564}, {'attr_id': 652, 'value': 0.0059}, {'attr_id': 653, 'value': 0.019}, {'attr_id': 654, 'value': 0.0147}, {'attr_id': 662, 'value': 0.0006}, {'attr_id': 663, 'value': 0.0184}, {'attr_id': 664, 'value': 0.0036}, {'attr_id': 670, 'value': 0.0104}, {'attr_id': 671, 'value': 0}, {'attr_id': 672, 'value': 0.0146}, {'attr_id': 673, 'value': 0.1868}, {'attr_id': 674, 'value': 3.7852}, {'attr_id': 675, 'value': 7.2022}, {'attr_id': 676, 'value': 0.0108}, {'attr_id': 685, 'value': 0.0417}, {'attr_id': 687, 'value': 0.0078}, {'attr_id': 689, 'value': 0.0191}, {'attr_id': 693, 'value': 0.0216}, {'attr_id': 695, 'value': 0.0459}, {'attr_id': 697, 'value': 0}, {'attr_id': 851, 'value': 1.0046}, {'attr_id': 852, 'value': 0.0003}, {'attr_id': 853, 'value': 0.0182}, {'attr_id': 858, 'value': 0.0179}], 'nix_brand_name': None, 'nix_brand_id': None, 'nix_item_name': None, 'nix_item_id': None, 'upc': None, 'consumed_at': '2025-06-24T09:10:52+00:00', 'metadata': {'is_raw_food': False}, 'source': 1, 'ndb_no': 1001595, 'tags': {'item': 'grilled chicken salad', 'measure': None, 'quantity': '1.0', 'food_group': 8, 'tag_id': 8826}, 'alt_measures': [{'serving_weight': 242.5, 'measure': 'salad with dressing', 'seq': 1, 'qty': 1}, {'serving_weight': 105, 'measure': 'cup with dressing', 'seq': 2, 'qty': 1}, {'serving_weight': 100, 'measure': 'g', 'seq': None, 'qty': 100}, {'serving_weight': 28.3495, 'measure': 'wt. oz', 'seq': None, 'qty': 1}], 'lat': None, 'lng': None, 'meal_type': 1, 'photo': {'thumb': 'https://nix-tag-images.s3.amazonaws.com/8826_thumb.jpg', 'highres': 'https://nix-tag-images.s3.amazonaws.com/8826_highres.jpg', 'is_user_uploaded': False}, 'sub_recipe': None, 'class_code': None, 'brick_code': None, 'tag_id': None}]}\u001b[0m\u001b[32;1m\u001b[1;3m\n",
      "Invoking: `featch_food_calorie` with `Brown rice with vegetables`\n",
      "\n",
      "\n",
      "\u001b[0m\u001b[36;1m\u001b[1;3m{'foods': [{'food_name': 'brown rice', 'brand_name': None, 'serving_qty': 0.5, 'serving_unit': 'cup', 'serving_weight_grams': 97.5, 'nf_calories': 109.2, 'nf_total_fat': 0.81, 'nf_saturated_fat': 0.16, 'nf_cholesterol': 0, 'nf_sodium': 0.98, 'nf_total_carbohydrate': 22.92, 'nf_dietary_fiber': 1.76, 'nf_sugars': None, 'nf_protein': 2.26, 'nf_potassium': 77.03, 'nf_p': 75.08, 'full_nutrients': [{'attr_id': 203, 'value': 2.262}, {'attr_id': 204, 'value': 0.8093}, {'attr_id': 205, 'value': 22.9223}, {'attr_id': 207, 'value': 0.3803}, {'attr_id': 208, 'value': 109.2}, {'attr_id': 255, 'value': 71.136}, {'attr_id': 268, 'value': 457.275}, {'attr_id': 291, 'value': 1.755}, {'attr_id': 301, 'value': 9.75}, {'attr_id': 303, 'value': 0.5168}, {'attr_id': 304, 'value': 42.9}, {'attr_id': 305, 'value': 75.075}, {'attr_id': 306, 'value': 77.025}, {'attr_id': 307, 'value': 0.975}, {'attr_id': 309, 'value': 0.6045}, {'attr_id': 312, 'value': 0.079}, {'attr_id': 315, 'value': 1.0696}, {'attr_id': 318, 'value': 0}, {'attr_id': 319, 'value': 0}, {'attr_id': 320, 'value': 0}, {'attr_id': 324, 'value': 0}, {'attr_id': 328, 'value': 0}, {'attr_id': 401, 'value': 0}, {'attr_id': 404, 'value': 0.0995}, {'attr_id': 405, 'value': 0.0117}, {'attr_id': 406, 'value': 1.2968}, {'attr_id': 410, 'value': 0.3822}, {'attr_id': 415, 'value': 0.1453}, {'attr_id': 417, 'value': 3.9}, {'attr_id': 418, 'value': 0}, {'attr_id': 431, 'value': 0}, {'attr_id': 432, 'value': 3.9}, {'attr_id': 435, 'value': 3.9}, {'attr_id': 501, 'value': 0.0293}, {'attr_id': 502, 'value': 0.0829}, {'attr_id': 503, 'value': 0.0956}, {'attr_id': 504, 'value': 0.1862}, {'attr_id': 505, 'value': 0.0858}, {'attr_id': 506, 'value': 0.0507}, {'attr_id': 507, 'value': 0.0273}, {'attr_id': 508, 'value': 0.116}, {'attr_id': 509, 'value': 0.0848}, {'attr_id': 510, 'value': 0.1326}, {'attr_id': 511, 'value': 0.1706}, {'attr_id': 512, 'value': 0.0575}, {'attr_id': 513, 'value': 0.1316}, {'attr_id': 514, 'value': 0.2116}, {'attr_id': 515, 'value': 0.4602}, {'attr_id': 516, 'value': 0.1112}, {'attr_id': 517, 'value': 0.1063}, {'attr_id': 518, 'value': 0.117}, {'attr_id': 601, 'value': 0}, {'attr_id': 606, 'value': 0.1609}, {'attr_id': 611, 'value': 0.001}, {'attr_id': 612, 'value': 0.0029}, {'attr_id': 613, 'value': 0.1375}, {'attr_id': 614, 'value': 0.0146}, {'attr_id': 617, 'value': 0.2896}, {'attr_id': 618, 'value': 0.2759}, {'attr_id': 619, 'value': 0.0127}, {'attr_id': 626, 'value': 0.0029}, {'attr_id': 645, 'value': 0.2925}, {'attr_id': 646, 'value': 0.2886}], 'nix_brand_name': None, 'nix_brand_id': None, 'nix_item_name': None, 'nix_item_id': None, 'upc': None, 'consumed_at': '2025-06-24T09:10:53+00:00', 'metadata': {'is_raw_food': False}, 'source': 1, 'ndb_no': 20041, 'tags': {'item': 'brown rice', 'measure': None, 'quantity': '0.5', 'food_group': 5, 'tag_id': 37}, 'alt_measures': [{'serving_weight': 195, 'measure': 'cup', 'seq': 1, 'qty': 1}, {'serving_weight': 97.5, 'measure': 'cup', 'seq': 80, 'qty': 0.5}, {'serving_weight': 28.35, 'measure': 'oz', 'seq': 81, 'qty': 1}, {'serving_weight': 100, 'measure': 'g', 'seq': None, 'qty': 100}, {'serving_weight': 4.06, 'measure': 'tsp', 'seq': 101, 'qty': 1}, {'serving_weight': 12.19, 'measure': 'tbsp', 'seq': 102, 'qty': 1}], 'lat': None, 'lng': None, 'meal_type': 1, 'photo': {'thumb': 'https://nix-tag-images.s3.amazonaws.com/37_thumb.jpg', 'highres': 'https://nix-tag-images.s3.amazonaws.com/37_highres.jpg', 'is_user_uploaded': False}, 'sub_recipe': None, 'class_code': None, 'brick_code': None, 'tag_id': None}, {'food_name': 'vegetables', 'brand_name': None, 'serving_qty': 0.5, 'serving_unit': 'cup', 'serving_weight_grams': 91, 'nf_calories': 59.15, 'nf_total_fat': 0.14, 'nf_saturated_fat': 0.03, 'nf_cholesterol': 0, 'nf_sodium': 31.85, 'nf_total_carbohydrate': 11.91, 'nf_dietary_fiber': 4, 'nf_sugars': 2.84, 'nf_protein': 2.6, 'nf_potassium': 153.79, 'nf_p': 46.41, 'full_nutrients': [{'attr_id': 203, 'value': 2.6026}, {'attr_id': 204, 'value': 0.1365}, {'attr_id': 205, 'value': 11.9119}, {'attr_id': 207, 'value': 0.6097}, {'attr_id': 208, 'value': 59.15}, {'attr_id': 221, 'value': 0}, {'attr_id': 255, 'value': 75.7393}, {'attr_id': 262, 'value': 0}, {'attr_id': 263, 'value': 0}, {'attr_id': 268, 'value': 248.43}, {'attr_id': 269, 'value': 2.8392}, {'attr_id': 291, 'value': 4.004}, {'attr_id': 301, 'value': 22.75}, {'attr_id': 303, 'value': 0.7462}, {'attr_id': 304, 'value': 20.02}, {'attr_id': 305, 'value': 46.41}, {'attr_id': 306, 'value': 153.79}, {'attr_id': 307, 'value': 31.85}, {'attr_id': 309, 'value': 0.4459}, {'attr_id': 312, 'value': 0.0755}, {'attr_id': 315, 'value': 0.3449}, {'attr_id': 317, 'value': 0.273}, {'attr_id': 318, 'value': 3892.07}, {'attr_id': 319, 'value': 0}, {'attr_id': 320, 'value': 194.74}, {'attr_id': 321, 'value': 1894.62}, {'attr_id': 322, 'value': 880.88}, {'attr_id': 323, 'value': 0.3458}, {'attr_id': 324, 'value': 0}, {'attr_id': 328, 'value': 0}, {'attr_id': 334, 'value': 0}, {'attr_id': 337, 'value': 0}, {'attr_id': 338, 'value': 579.67}, {'attr_id': 401, 'value': 2.912}, {'attr_id': 404, 'value': 0.0646}, {'attr_id': 405, 'value': 0.1092}, {'attr_id': 406, 'value': 0.7744}, {'attr_id': 410, 'value': 0.1374}, {'attr_id': 415, 'value': 0.0673}, {'attr_id': 417, 'value': 17.29}, {'attr_id': 418, 'value': 0}, {'attr_id': 421, 'value': 21.931}, {'attr_id': 430, 'value': 21.385}, {'attr_id': 431, 'value': 0}, {'attr_id': 432, 'value': 17.29}, {'attr_id': 435, 'value': 17.29}, {'attr_id': 501, 'value': 0.0264}, {'attr_id': 502, 'value': 0.1047}, {'attr_id': 503, 'value': 0.1265}, {'attr_id': 504, 'value': 0.1729}, {'attr_id': 505, 'value': 0.1547}, {'attr_id': 506, 'value': 0.0309}, {'attr_id': 507, 'value': 0.0237}, {'attr_id': 508, 'value': 0.1092}, {'attr_id': 509, 'value': 0.0673}, {'attr_id': 510, 'value': 0.1356}, {'attr_id': 511, 'value': 0.1756}, {'attr_id': 512, 'value': 0.0664}, {'attr_id': 513, 'value': 0.1119}, {'attr_id': 514, 'value': 0.2757}, {'attr_id': 515, 'value': 0.3549}, {'attr_id': 516, 'value': 0.0946}, {'attr_id': 517, 'value': 0.0637}, {'attr_id': 518, 'value': 0.1238}, {'attr_id': 601, 'value': 0}, {'attr_id': 605, 'value': 0}, {'attr_id': 606, 'value': 0.0282}, {'attr_id': 607, 'value': 0}, {'attr_id': 608, 'value': 0}, {'attr_id': 609, 'value': 0}, {'attr_id': 610, 'value': 0}, {'attr_id': 611, 'value': 0}, {'attr_id': 612, 'value': 0}, {'attr_id': 613, 'value': 0.0246}, {'attr_id': 614, 'value': 0.0027}, {'attr_id': 617, 'value': 0.0082}, {'attr_id': 618, 'value': 0.0482}, {'attr_id': 619, 'value': 0.0173}, {'attr_id': 620, 'value': 0}, {'attr_id': 621, 'value': 0}, {'attr_id': 626, 'value': 0}, {'attr_id': 627, 'value': 0}, {'attr_id': 628, 'value': 0}, {'attr_id': 629, 'value': 0}, {'attr_id': 630, 'value': 0}, {'attr_id': 631, 'value': 0}, {'attr_id': 645, 'value': 0.0091}, {'attr_id': 646, 'value': 0.0655}], 'nix_brand_name': None, 'nix_brand_id': None, 'nix_item_name': None, 'nix_item_id': None, 'upc': None, 'consumed_at': '2025-06-24T09:10:53+00:00', 'metadata': {'is_raw_food': False}, 'source': 1, 'ndb_no': 11584, 'tags': {'item': 'vegetable', 'measure': None, 'quantity': '0.5', 'food_group': 4, 'tag_id': 318}, 'alt_measures': [{'serving_weight': 91, 'measure': 'cup', 'seq': 1, 'qty': 0.5}, {'serving_weight': 275, 'measure': 'package (10 oz) yields', 'seq': 2, 'qty': 1}, {'serving_weight': 100, 'measure': 'g', 'seq': None, 'qty': 100}, {'serving_weight': 28.3495, 'measure': 'wt. oz', 'seq': None, 'qty': 1}, {'serving_weight': 3.79, 'measure': 'tsp', 'seq': 101, 'qty': 1}, {'serving_weight': 11.38, 'measure': 'tbsp', 'seq': 102, 'qty': 1}], 'lat': None, 'lng': None, 'meal_type': 1, 'photo': {'thumb': 'https://nix-tag-images.s3.amazonaws.com/318_thumb.jpg', 'highres': 'https://nix-tag-images.s3.amazonaws.com/318_highres.jpg', 'is_user_uploaded': False}, 'sub_recipe': None, 'class_code': None, 'brick_code': None, 'tag_id': None}]}\u001b[0m\u001b[32;1m\u001b[1;3m\n",
      "Invoking: `featch_food_calorie` with `Peanut butter sandwich`\n",
      "\n",
      "\n",
      "\u001b[0m\u001b[36;1m\u001b[1;3m{'foods': [{'food_name': 'peanut butter sandwich', 'brand_name': None, 'serving_qty': 1, 'serving_unit': 'sandwich', 'serving_weight_grams': 82.25, 'nf_calories': 322.63, 'nf_total_fat': 17.64, 'nf_saturated_fat': 3.42, 'nf_cholesterol': 0, 'nf_sodium': 398.51, 'nf_total_carbohydrate': 32.44, 'nf_dietary_fiber': 3.19, 'nf_sugars': 4.93, 'nf_protein': 11.5, 'nf_potassium': 253.92, 'nf_p': 157.04, 'full_nutrients': [{'attr_id': 203, 'value': 11.4974}, {'attr_id': 204, 'value': 17.6417}, {'attr_id': 205, 'value': 32.4436}, {'attr_id': 207, 'value': 1.9575}, {'attr_id': 208, 'value': 322.63}, {'attr_id': 209, 'value': 20.0588}, {'attr_id': 210, 'value': 0.7708}, {'attr_id': 211, 'value': 2.1105}, {'attr_id': 212, 'value': 1.215}, {'attr_id': 213, 'value': 0}, {'attr_id': 214, 'value': 0.835}, {'attr_id': 221, 'value': 0}, {'attr_id': 255, 'value': 18.7099}, {'attr_id': 262, 'value': 0}, {'attr_id': 263, 'value': 0}, {'attr_id': 268, 'value': 1350.495}, {'attr_id': 269, 'value': 4.9313}, {'attr_id': 287, 'value': 0}, {'attr_id': 291, 'value': 3.1883}, {'attr_id': 301, 'value': 89.415}, {'attr_id': 303, 'value': 2.5016}, {'attr_id': 304, 'value': 69.2275}, {'attr_id': 305, 'value': 157.0375}, {'attr_id': 306, 'value': 253.92}, {'attr_id': 307, 'value': 398.51}, {'attr_id': 309, 'value': 1.2311}, {'attr_id': 312, 'value': 0.2347}, {'attr_id': 313, 'value': 25.4498}, {'attr_id': 315, 'value': 0.7069}, {'attr_id': 317, 'value': 24.029}, {'attr_id': 318, 'value': 0.5}, {'attr_id': 319, 'value': 0}, {'attr_id': 320, 'value': 0}, {'attr_id': 321, 'value': 0}, {'attr_id': 322, 'value': 0}, {'attr_id': 323, 'value': 2.0257}, {'attr_id': 324, 'value': 0}, {'attr_id': 328, 'value': 0}, {'attr_id': 334, 'value': 0}, {'attr_id': 337, 'value': 0}, {'attr_id': 338, 'value': 22}, {'attr_id': 341, 'value': 0.0613}, {'attr_id': 342, 'value': 2.6832}, {'attr_id': 343, 'value': 0.2193}, {'attr_id': 344, 'value': 0}, {'attr_id': 345, 'value': 0}, {'attr_id': 346, 'value': 0}, {'attr_id': 347, 'value': 0}, {'attr_id': 401, 'value': 0}, {'attr_id': 404, 'value': 0.301}, {'attr_id': 405, 'value': 0.1554}, {'attr_id': 406, 'value': 6.6341}, {'attr_id': 410, 'value': 0.6047}, {'attr_id': 415, 'value': 0.2212}, {'attr_id': 417, 'value': 66.7875}, {'attr_id': 418, 'value': 0}, {'attr_id': 421, 'value': 28.4883}, {'attr_id': 429, 'value': 0}, {'attr_id': 430, 'value': 0.1}, {'attr_id': 431, 'value': 43}, {'attr_id': 432, 'value': 23.7875}, {'attr_id': 435, 'value': 96.7875}, {'attr_id': 454, 'value': 51.079}, {'attr_id': 501, 'value': 0.0735}, {'attr_id': 502, 'value': 0.1671}, {'attr_id': 503, 'value': 0.1961}, {'attr_id': 504, 'value': 0.4925}, {'attr_id': 505, 'value': 0.2167}, {'attr_id': 506, 'value': 0.0845}, {'attr_id': 507, 'value': 0.0729}, {'attr_id': 508, 'value': 0.3828}, {'attr_id': 509, 'value': 0.2641}, {'attr_id': 510, 'value': 0.2493}, {'attr_id': 511, 'value': 0.8817}, {'attr_id': 512, 'value': 0.1774}, {'attr_id': 513, 'value': 0.2919}, {'attr_id': 514, 'value': 0.9727}, {'attr_id': 515, 'value': 1.6219}, {'attr_id': 516, 'value': 0.4576}, {'attr_id': 517, 'value': 0.4486}, {'attr_id': 518, 'value': 0.4718}, {'attr_id': 601, 'value': 0}, {'attr_id': 605, 'value': 0.0135}, {'attr_id': 606, 'value': 3.4189}, {'attr_id': 607, 'value': 0.0015}, {'attr_id': 608, 'value': 0}, {'attr_id': 609, 'value': 0.007}, {'attr_id': 610, 'value': 0.0025}, {'attr_id': 611, 'value': 0.0065}, {'attr_id': 612, 'value': 0.0081}, {'attr_id': 613, 'value': 1.6672}, {'attr_id': 614, 'value': 0.7069}, {'attr_id': 615, 'value': 0.202}, {'attr_id': 617, 'value': 6.6958}, {'attr_id': 618, 'value': 4.3503}, {'attr_id': 619, 'value': 0.0956}, {'attr_id': 620, 'value': 0.001}, {'attr_id': 621, 'value': 0}, {'attr_id': 624, 'value': 0.5619}, {'attr_id': 625, 'value': 0}, {'attr_id': 626, 'value': 0.0258}, {'attr_id': 627, 'value': 0}, {'attr_id': 628, 'value': 0.2243}, {'attr_id': 629, 'value': 0.0044}, {'attr_id': 630, 'value': 0.0368}, {'attr_id': 631, 'value': 0}, {'attr_id': 645, 'value': 6.9836}, {'attr_id': 646, 'value': 4.4553}, {'attr_id': 652, 'value': 0.0015}, {'attr_id': 653, 'value': 0.0149}, {'attr_id': 654, 'value': 0.2394}, {'attr_id': 662, 'value': 0}, {'attr_id': 663, 'value': 0.011}, {'attr_id': 664, 'value': 0}, {'attr_id': 670, 'value': 0.0005}, {'attr_id': 671, 'value': 0}, {'attr_id': 672, 'value': 0.001}, {'attr_id': 673, 'value': 0.009}, {'attr_id': 674, 'value': 0.2735}, {'attr_id': 676, 'value': 0}, {'attr_id': 685, 'value': 0}, {'attr_id': 687, 'value': 0.001}, {'attr_id': 689, 'value': 0}, {'attr_id': 693, 'value': 0.011}, {'attr_id': 695, 'value': 0.0025}, {'attr_id': 697, 'value': 0}, {'attr_id': 851, 'value': 0.083}, {'attr_id': 852, 'value': 0}, {'attr_id': 853, 'value': 0}, {'attr_id': 858, 'value': 0.0025}], 'nix_brand_name': None, 'nix_brand_id': None, 'nix_item_name': None, 'nix_item_id': None, 'upc': None, 'consumed_at': '2025-06-24T09:10:54+00:00', 'metadata': {'is_raw_food': False}, 'source': 1, 'ndb_no': 1000208, 'tags': {'item': 'peanut butter sandwich', 'measure': None, 'quantity': '1.0', 'food_group': 8, 'tag_id': 3631}, 'alt_measures': [{'serving_weight': 82.25, 'measure': 'sandwich', 'seq': 1, 'qty': 1}, {'serving_weight': 100, 'measure': 'g', 'seq': None, 'qty': 100}, {'serving_weight': 28.3495, 'measure': 'wt. oz', 'seq': None, 'qty': 1}], 'lat': None, 'lng': None, 'meal_type': 1, 'photo': {'thumb': 'https://nix-tag-images.s3.amazonaws.com/3631_thumb.jpg', 'highres': 'https://nix-tag-images.s3.amazonaws.com/3631_highres.jpg', 'is_user_uploaded': False}, 'sub_recipe': None, 'class_code': None, 'brick_code': None, 'tag_id': None}]}\u001b[0m\u001b[32;1m\u001b[1;3m\n",
      "Invoking: `featch_food_calorie` with `Greek yogurt with honey`\n",
      "\n",
      "\n",
      "\u001b[0m\u001b[36;1m\u001b[1;3m{'foods': [{'food_name': 'greek yogurt', 'brand_name': None, 'serving_qty': 6, 'serving_unit': 'oz', 'serving_weight_grams': 170, 'nf_calories': 100.3, 'nf_total_fat': 0.66, 'nf_saturated_fat': 0.2, 'nf_cholesterol': 8.5, 'nf_sodium': 61.2, 'nf_total_carbohydrate': 6.12, 'nf_dietary_fiber': 0, 'nf_sugars': 5.51, 'nf_protein': 17.32, 'nf_potassium': 239.7, 'nf_p': 229.5, 'full_nutrients': [{'attr_id': 203, 'value': 17.323}, {'attr_id': 204, 'value': 0.663}, {'attr_id': 205, 'value': 6.12}, {'attr_id': 207, 'value': 1.224}, {'attr_id': 208, 'value': 100.3}, {'attr_id': 210, 'value': 0}, {'attr_id': 211, 'value': 0}, {'attr_id': 212, 'value': 0}, {'attr_id': 213, 'value': 4.318}, {'attr_id': 214, 'value': 0}, {'attr_id': 221, 'value': 0}, {'attr_id': 255, 'value': 144.67}, {'attr_id': 262, 'value': 0}, {'attr_id': 263, 'value': 0}, {'attr_id': 268, 'value': 418.2}, {'attr_id': 269, 'value': 5.508}, {'attr_id': 287, 'value': 1.19}, {'attr_id': 291, 'value': 0}, {'attr_id': 301, 'value': 187}, {'attr_id': 303, 'value': 0.119}, {'attr_id': 304, 'value': 18.7}, {'attr_id': 305, 'value': 229.5}, {'attr_id': 306, 'value': 239.7}, {'attr_id': 307, 'value': 61.2}, {'attr_id': 309, 'value': 0.884}, {'attr_id': 312, 'value': 0.0289}, {'attr_id': 315, 'value': 0.0153}, {'attr_id': 317, 'value': 16.49}, {'attr_id': 318, 'value': 6.8}, {'attr_id': 319, 'value': 1.7}, {'attr_id': 320, 'value': 1.7}, {'attr_id': 321, 'value': 0}, {'attr_id': 322, 'value': 0}, {'attr_id': 323, 'value': 0.017}, {'attr_id': 324, 'value': 0}, {'attr_id': 325, 'value': 0}, {'attr_id': 326, 'value': 0}, {'attr_id': 328, 'value': 0}, {'attr_id': 334, 'value': 0}, {'attr_id': 337, 'value': 0}, {'attr_id': 338, 'value': 0}, {'attr_id': 341, 'value': 0}, {'attr_id': 342, 'value': 0}, {'attr_id': 343, 'value': 0}, {'attr_id': 344, 'value': 0}, {'attr_id': 345, 'value': 0}, {'attr_id': 346, 'value': 0}, {'attr_id': 347, 'value': 0}, {'attr_id': 401, 'value': 0}, {'attr_id': 404, 'value': 0.0391}, {'attr_id': 405, 'value': 0.4726}, {'attr_id': 406, 'value': 0.3536}, {'attr_id': 410, 'value': 0.5627}, {'attr_id': 415, 'value': 0.1071}, {'attr_id': 417, 'value': 11.9}, {'attr_id': 418, 'value': 1.275}, {'attr_id': 421, 'value': 25.67}, {'attr_id': 428, 'value': 0}, {'attr_id': 429, 'value': 0}, {'attr_id': 430, 'value': 0}, {'attr_id': 431, 'value': 0}, {'attr_id': 432, 'value': 11.9}, {'attr_id': 435, 'value': 11.9}, {'attr_id': 454, 'value': 1.36}, {'attr_id': 601, 'value': 8.5}, {'attr_id': 605, 'value': 0.0102}, {'attr_id': 606, 'value': 0.1989}, {'attr_id': 607, 'value': 0}, {'attr_id': 608, 'value': 0.0051}, {'attr_id': 609, 'value': 0.0068}, {'attr_id': 610, 'value': 0.0221}, {'attr_id': 611, 'value': 0.0102}, {'attr_id': 612, 'value': 0.0255}, {'attr_id': 613, 'value': 0.0833}, {'attr_id': 614, 'value': 0.0357}, {'attr_id': 615, 'value': 0}, {'attr_id': 617, 'value': 0.0833}, {'attr_id': 618, 'value': 0.017}, {'attr_id': 619, 'value': 0.0017}, {'attr_id': 620, 'value': 0}, {'attr_id': 621, 'value': 0}, {'attr_id': 624, 'value': 0}, {'attr_id': 625, 'value': 0.0017}, {'attr_id': 626, 'value': 0.0034}, {'attr_id': 627, 'value': 0}, {'attr_id': 628, 'value': 0.0034}, {'attr_id': 629, 'value': 0}, {'attr_id': 630, 'value': 0}, {'attr_id': 631, 'value': 0}, {'attr_id': 645, 'value': 0.0901}, {'attr_id': 646, 'value': 0.0204}, {'attr_id': 652, 'value': 0.0051}, {'attr_id': 653, 'value': 0.0051}, {'attr_id': 654, 'value': 0}, {'attr_id': 662, 'value': 0}, {'attr_id': 663, 'value': 0.0102}, {'attr_id': 664, 'value': 0}, {'attr_id': 670, 'value': 0}, {'attr_id': 671, 'value': 0}, {'attr_id': 672, 'value': 0}, {'attr_id': 673, 'value': 0.0034}, {'attr_id': 674, 'value': 0.0731}, {'attr_id': 675, 'value': 0.017}, {'attr_id': 676, 'value': 0}, {'attr_id': 685, 'value': 0}, {'attr_id': 687, 'value': 0}, {'attr_id': 689, 'value': 0}, {'attr_id': 693, 'value': 0.0102}, {'attr_id': 695, 'value': 0}, {'attr_id': 697, 'value': 0}, {'attr_id': 851, 'value': 0.0017}, {'attr_id': 852, 'value': 0}, {'attr_id': 853, 'value': 0}, {'attr_id': 858, 'value': 0}], 'nix_brand_name': None, 'nix_brand_id': None, 'nix_item_name': None, 'nix_item_id': None, 'upc': None, 'consumed_at': '2025-06-24T09:10:56+00:00', 'metadata': {'is_raw_food': False}, 'source': 1, 'ndb_no': 1256, 'tags': {'item': 'greek yogurt', 'measure': None, 'quantity': '6.0', 'food_group': 1, 'tag_id': 63}, 'alt_measures': [{'serving_weight': 170, 'measure': 'container', 'seq': 1, 'qty': 1}, {'serving_weight': 170, 'measure': 'oz', 'seq': 80, 'qty': 6}, {'serving_weight': 226.67, 'measure': 'cup', 'seq': 81, 'qty': 1}, {'serving_weight': 100, 'measure': 'g', 'seq': None, 'qty': 100}, {'serving_weight': 4.72, 'measure': 'tsp', 'seq': 101, 'qty': 1}, {'serving_weight': 14.17, 'measure': 'tbsp', 'seq': 102, 'qty': 1}], 'lat': None, 'lng': None, 'meal_type': 1, 'photo': {'thumb': 'https://nix-tag-images.s3.amazonaws.com/63_thumb.jpg', 'highres': 'https://nix-tag-images.s3.amazonaws.com/63_highres.jpg', 'is_user_uploaded': False}, 'sub_recipe': None, 'class_code': None, 'brick_code': None, 'tag_id': None}, {'food_name': 'honey', 'brand_name': None, 'serving_qty': 1, 'serving_unit': 'tbsp', 'serving_weight_grams': 21, 'nf_calories': 63.84, 'nf_total_fat': 0, 'nf_saturated_fat': 0, 'nf_cholesterol': 0, 'nf_sodium': 0.84, 'nf_total_carbohydrate': 17.3, 'nf_dietary_fiber': 0.04, 'nf_sugars': 17.25, 'nf_protein': 0.06, 'nf_potassium': 10.92, 'nf_p': 0.84, 'full_nutrients': [{'attr_id': 203, 'value': 0.063}, {'attr_id': 204, 'value': 0}, {'attr_id': 205, 'value': 17.304}, {'attr_id': 207, 'value': 0.042}, {'attr_id': 208, 'value': 63.84}, {'attr_id': 210, 'value': 0.1869}, {'attr_id': 211, 'value': 7.5075}, {'attr_id': 212, 'value': 8.5974}, {'attr_id': 214, 'value': 0.3024}, {'attr_id': 221, 'value': 0}, {'attr_id': 255, 'value': 3.591}, {'attr_id': 262, 'value': 0}, {'attr_id': 263, 'value': 0}, {'attr_id': 268, 'value': 267.12}, {'attr_id': 269, 'value': 17.2452}, {'attr_id': 287, 'value': 0.651}, {'attr_id': 291, 'value': 0.042}, {'attr_id': 301, 'value': 1.26}, {'attr_id': 303, 'value': 0.0882}, {'attr_id': 304, 'value': 0.42}, {'attr_id': 305, 'value': 0.84}, {'attr_id': 306, 'value': 10.92}, {'attr_id': 307, 'value': 0.84}, {'attr_id': 309, 'value': 0.0462}, {'attr_id': 312, 'value': 0.0076}, {'attr_id': 313, 'value': 1.47}, {'attr_id': 315, 'value': 0.0168}, {'attr_id': 317, 'value': 0.168}, {'attr_id': 318, 'value': 0}, {'attr_id': 319, 'value': 0}, {'attr_id': 320, 'value': 0}, {'attr_id': 321, 'value': 0}, {'attr_id': 322, 'value': 0}, {'attr_id': 323, 'value': 0}, {'attr_id': 324, 'value': 0}, {'attr_id': 328, 'value': 0}, {'attr_id': 334, 'value': 0}, {'attr_id': 337, 'value': 0}, {'attr_id': 338, 'value': 0}, {'attr_id': 401, 'value': 0.105}, {'attr_id': 404, 'value': 0}, {'attr_id': 405, 'value': 0.008}, {'attr_id': 406, 'value': 0.0254}, {'attr_id': 410, 'value': 0.0143}, {'attr_id': 415, 'value': 0.005}, {'attr_id': 417, 'value': 0.42}, {'attr_id': 418, 'value': 0}, {'attr_id': 421, 'value': 0.462}, {'attr_id': 430, 'value': 0}, {'attr_id': 431, 'value': 0}, {'attr_id': 432, 'value': 0.42}, {'attr_id': 435, 'value': 0.42}, {'attr_id': 454, 'value': 0.357}, {'attr_id': 501, 'value': 0.0008}, {'attr_id': 502, 'value': 0.0008}, {'attr_id': 503, 'value': 0.0017}, {'attr_id': 504, 'value': 0.0021}, {'attr_id': 505, 'value': 0.0017}, {'attr_id': 506, 'value': 0.0002}, {'attr_id': 507, 'value': 0.0006}, {'attr_id': 508, 'value': 0.0023}, {'attr_id': 509, 'value': 0.0017}, {'attr_id': 510, 'value': 0.0019}, {'attr_id': 511, 'value': 0.0011}, {'attr_id': 512, 'value': 0.0002}, {'attr_id': 513, 'value': 0.0013}, {'attr_id': 514, 'value': 0.0057}, {'attr_id': 515, 'value': 0.0038}, {'attr_id': 516, 'value': 0.0015}, {'attr_id': 517, 'value': 0.0189}, {'attr_id': 518, 'value': 0.0013}, {'attr_id': 601, 'value': 0}, {'attr_id': 606, 'value': 0}, {'attr_id': 607, 'value': 0}, {'attr_id': 608, 'value': 0}, {'attr_id': 609, 'value': 0}, {'attr_id': 610, 'value': 0}, {'attr_id': 611, 'value': 0}, {'attr_id': 612, 'value': 0}, {'attr_id': 613, 'value': 0}, {'attr_id': 614, 'value': 0}, {'attr_id': 617, 'value': 0}, {'attr_id': 618, 'value': 0}, {'attr_id': 619, 'value': 0}, {'attr_id': 620, 'value': 0}, {'attr_id': 621, 'value': 0}, {'attr_id': 626, 'value': 0}, {'attr_id': 627, 'value': 0}, {'attr_id': 628, 'value': 0}, {'attr_id': 629, 'value': 0}, {'attr_id': 630, 'value': 0}, {'attr_id': 631, 'value': 0}, {'attr_id': 645, 'value': 0}, {'attr_id': 646, 'value': 0}], 'nix_brand_name': None, 'nix_brand_id': None, 'nix_item_name': None, 'nix_item_id': None, 'upc': None, 'consumed_at': '2025-06-24T09:10:56+00:00', 'metadata': {'is_raw_food': False}, 'source': 1, 'ndb_no': 19296, 'tags': {'item': 'honey', 'measure': None, 'quantity': '1.0', 'food_group': 9, 'tag_id': 20}, 'alt_measures': [{'serving_weight': 339, 'measure': 'cup', 'seq': 1, 'qty': 1}, {'serving_weight': 21, 'measure': 'tbsp', 'seq': 2, 'qty': 1}, {'serving_weight': 14, 'measure': 'packet (0.5 oz)', 'seq': 3, 'qty': 1}, {'serving_weight': 100, 'measure': 'g', 'seq': None, 'qty': 100}, {'serving_weight': 28.3495, 'measure': 'wt. oz', 'seq': None, 'qty': 1}, {'serving_weight': 7.06, 'measure': 'tsp', 'seq': 101, 'qty': 1}], 'lat': None, 'lng': None, 'meal_type': 1, 'photo': {'thumb': 'https://nix-tag-images.s3.amazonaws.com/20_thumb.jpg', 'highres': 'https://nix-tag-images.s3.amazonaws.com/20_highres.jpg', 'is_user_uploaded': False}, 'sub_recipe': None, 'class_code': None, 'brick_code': None, 'tag_id': None}]}\u001b[0m\u001b[32;1m\u001b[1;3m```json\n",
      "{\n",
      "  \"user_preference\": \"veg\",\n",
      "  \"food_type\": \"student\",\n",
      "  \"budget\": \"medium\",\n",
      "  \"diet_plan\": {\n",
      "    \"Monday\": {\n",
      "      \"breakfast\": [\n",
      "        {\n",
      "          \"item\": \"Oatmeal with banana\",\n",
      "          \"calories\": 271.16\n",
      "        }\n",
      "      ],\n",
      "      \"lunch\": [\n",
      "        {\n",
      "          \"item\": \"Grilled chicken salad\",\n",
      "          \"calories\": 302.5\n",
      "        }\n",
      "      ],\n",
      "      \"snacks\": [\n",
      "        {\n",
      "          \"item\": \"Peanut butter sandwich\",\n",
      "          \"calories\": 322.63\n",
      "        }\n",
      "      ],\n",
      "      \"dinner\": [\n",
      "        {\n",
      "          \"item\": \"Brown rice with vegetables\",\n",
      "          \"calories\": 168.35\n",
      "        }\n",
      "      ],\n",
      "      \"dessert\": [\n",
      "        {\n",
      "          \"item\": \"Greek yogurt with honey\",\n",
      "          \"calories\": 164.14\n",
      "        }\n",
      "      ],\n",
      "      \"total_calories\": 1228.68\n",
      "    }\n",
      "  }\n",
      "}\n",
      "```\u001b[0m\n",
      "\n",
      "\u001b[1m> Finished chain.\u001b[0m\n"
     ]
    }
   ],
   "source": [
    "raw_response = agent_executor.invoke({\"query\": query})"
   ]
  },
  {
   "cell_type": "code",
   "execution_count": 106,
   "id": "44cc5ebe-a84b-4612-9320-3ef4c2b4c816",
   "metadata": {},
   "outputs": [
    {
     "data": {
      "text/plain": [
       "{'query': 'Create me a diet plan of Monday, as I am college Student, its budget should be medium',\n",
       " 'output': '```json\\n{\\n  \"user_preference\": \"veg\",\\n  \"food_type\": \"student\",\\n  \"budget\": \"medium\",\\n  \"diet_plan\": {\\n    \"Monday\": {\\n      \"breakfast\": [\\n        {\\n          \"item\": \"Oatmeal with banana\",\\n          \"calories\": 271.16\\n        }\\n      ],\\n      \"lunch\": [\\n        {\\n          \"item\": \"Grilled chicken salad\",\\n          \"calories\": 302.5\\n        }\\n      ],\\n      \"snacks\": [\\n        {\\n          \"item\": \"Peanut butter sandwich\",\\n          \"calories\": 322.63\\n        }\\n      ],\\n      \"dinner\": [\\n        {\\n          \"item\": \"Brown rice with vegetables\",\\n          \"calories\": 168.35\\n        }\\n      ],\\n      \"dessert\": [\\n        {\\n          \"item\": \"Greek yogurt with honey\",\\n          \"calories\": 164.14\\n        }\\n      ],\\n      \"total_calories\": 1228.68\\n    }\\n  }\\n}\\n```'}"
      ]
     },
     "execution_count": 106,
     "metadata": {},
     "output_type": "execute_result"
    }
   ],
   "source": [
    "raw_response"
   ]
  },
  {
   "cell_type": "code",
   "execution_count": 47,
   "id": "a535956f-3dcf-45bd-9dc9-0d220d754f41",
   "metadata": {},
   "outputs": [],
   "source": [
    "output = raw_response[\"output\"]"
   ]
  },
  {
   "cell_type": "code",
   "execution_count": 48,
   "id": "1f60e657-2e2b-4bc6-9678-5144cc7b542c",
   "metadata": {},
   "outputs": [
    {
     "data": {
      "text/plain": [
       "'```json\\n{\\n  \"user_preference\": \"veg\",\\n  \"food_type\": \"student\",\\n  \"budget\": \"medium\",\\n  \"diet_plan\": {\\n    \"Monday\": {\\n      \"breakfast\": [\\n        {\\n          \"item\": \"Oatmeal with banana\",\\n          \"calories\": 271.16\\n        }\\n      ],\\n      \"lunch\": [\\n        {\\n          \"item\": \"Grilled chicken salad\",\\n          \"calories\": 302.5\\n        }\\n      ],\\n      \"snacks\": [\\n        {\\n          \"item\": \"Peanut butter sandwich\",\\n          \"calories\": 322.63\\n        }\\n      ],\\n      \"dinner\": [\\n        {\\n          \"item\": \"Brown rice with vegetables\",\\n          \"calories\": 168.35\\n        }\\n      ],\\n      \"dessert\": [\\n        {\\n          \"item\": \"Greek yogurt with honey\",\\n          \"calories\": 164.14\\n        }\\n      ],\\n      \"total_calories\": 1228.68\\n    }\\n  }\\n}\\n```'"
      ]
     },
     "execution_count": 48,
     "metadata": {},
     "output_type": "execute_result"
    }
   ],
   "source": [
    "output"
   ]
  },
  {
   "cell_type": "code",
   "execution_count": 79,
   "id": "c1bea76e-5369-47d8-98d6-70434d396731",
   "metadata": {},
   "outputs": [
    {
     "data": {
      "text/plain": [
       "{'user_preference': 'veg',\n",
       " 'food_type': 'student',\n",
       " 'budget': 'medium',\n",
       " 'diet_plan': {'Monday': {'breakfast': [{'item': 'Oatmeal with banana',\n",
       "     'calories': 271.16}],\n",
       "   'lunch': [{'item': 'Grilled chicken salad', 'calories': 302.5}],\n",
       "   'snacks': [{'item': 'Peanut butter sandwich', 'calories': 322.63}],\n",
       "   'dinner': [{'item': 'Brown rice with vegetables', 'calories': 168.35}],\n",
       "   'dessert': [{'item': 'Greek yogurt with honey', 'calories': 164.14}],\n",
       "   'total_calories': 1228.68}}}"
      ]
     },
     "execution_count": 79,
     "metadata": {},
     "output_type": "execute_result"
    }
   ],
   "source": [
    "json_str = re.search(r'```json\\n(.*)```', raw_response['output'], re.DOTALL).group(1)\n",
    "\n",
    "diet_data = json.loads(json_str)\n",
    "diet_data"
   ]
  },
  {
   "cell_type": "code",
   "execution_count": 89,
   "id": "1d323232-bf22-4a13-b2a9-d3d133ba0dea",
   "metadata": {
    "scrolled": true
   },
   "outputs": [],
   "source": [
    "structured_response = parser.parse(json_str)"
   ]
  },
  {
   "cell_type": "code",
   "execution_count": 90,
   "id": "2fd977ad-53cf-41ef-b711-974c18ae679b",
   "metadata": {},
   "outputs": [
    {
     "data": {
      "text/plain": [
       "dietPlanner(user_preference='veg', food_type='student', budget='medium', diet_plan={'Monday': {'breakfast': [{'item': 'Oatmeal with banana', 'calories': 271.16}], 'lunch': [{'item': 'Grilled chicken salad', 'calories': 302.5}], 'snacks': [{'item': 'Peanut butter sandwich', 'calories': 322.63}], 'dinner': [{'item': 'Brown rice with vegetables', 'calories': 168.35}], 'dessert': [{'item': 'Greek yogurt with honey', 'calories': 164.14}], 'total_calories': 1228.68}})"
      ]
     },
     "execution_count": 90,
     "metadata": {},
     "output_type": "execute_result"
    }
   ],
   "source": [
    "structured_response"
   ]
  },
  {
   "cell_type": "code",
   "execution_count": 91,
   "id": "7e6b6a27-6872-497f-9efc-108c24f70cdf",
   "metadata": {},
   "outputs": [
    {
     "data": {
      "text/plain": [
       "'veg'"
      ]
     },
     "execution_count": 91,
     "metadata": {},
     "output_type": "execute_result"
    }
   ],
   "source": [
    "structured_response.user_preference"
   ]
  },
  {
   "cell_type": "code",
   "execution_count": 92,
   "id": "3dc32b57-768e-45d8-9bc9-2472ffff40d8",
   "metadata": {},
   "outputs": [
    {
     "data": {
      "text/plain": [
       "'student'"
      ]
     },
     "execution_count": 92,
     "metadata": {},
     "output_type": "execute_result"
    }
   ],
   "source": [
    "structured_response.food_type"
   ]
  },
  {
   "cell_type": "code",
   "execution_count": 93,
   "id": "d8bf9257-446a-4bc4-98f5-37d6b7ff305c",
   "metadata": {},
   "outputs": [
    {
     "data": {
      "text/plain": [
       "'medium'"
      ]
     },
     "execution_count": 93,
     "metadata": {},
     "output_type": "execute_result"
    }
   ],
   "source": [
    "structured_response.budget"
   ]
  },
  {
   "cell_type": "code",
   "execution_count": 94,
   "id": "8744c8da-9501-4a1b-a317-3b4686f9ba42",
   "metadata": {},
   "outputs": [
    {
     "data": {
      "text/plain": [
       "{'Monday': {'breakfast': [{'item': 'Oatmeal with banana', 'calories': 271.16}],\n",
       "  'lunch': [{'item': 'Grilled chicken salad', 'calories': 302.5}],\n",
       "  'snacks': [{'item': 'Peanut butter sandwich', 'calories': 322.63}],\n",
       "  'dinner': [{'item': 'Brown rice with vegetables', 'calories': 168.35}],\n",
       "  'dessert': [{'item': 'Greek yogurt with honey', 'calories': 164.14}],\n",
       "  'total_calories': 1228.68}}"
      ]
     },
     "execution_count": 94,
     "metadata": {},
     "output_type": "execute_result"
    }
   ],
   "source": [
    "structured_response.diet_plan"
   ]
  },
  {
   "cell_type": "code",
   "execution_count": 96,
   "id": "4c976fae-91ef-4d8d-8a74-f51fda532a92",
   "metadata": {},
   "outputs": [
    {
     "data": {
      "text/plain": [
       "{'breakfast': [{'item': 'Oatmeal with banana', 'calories': 271.16}],\n",
       " 'lunch': [{'item': 'Grilled chicken salad', 'calories': 302.5}],\n",
       " 'snacks': [{'item': 'Peanut butter sandwich', 'calories': 322.63}],\n",
       " 'dinner': [{'item': 'Brown rice with vegetables', 'calories': 168.35}],\n",
       " 'dessert': [{'item': 'Greek yogurt with honey', 'calories': 164.14}],\n",
       " 'total_calories': 1228.68}"
      ]
     },
     "execution_count": 96,
     "metadata": {},
     "output_type": "execute_result"
    }
   ],
   "source": [
    "structured_response.diet_plan['Monday']"
   ]
  },
  {
   "cell_type": "code",
   "execution_count": 97,
   "id": "592637d6-b5d3-4aa9-9cd3-6870a127d349",
   "metadata": {},
   "outputs": [
    {
     "data": {
      "text/plain": [
       "[{'item': 'Oatmeal with banana', 'calories': 271.16}]"
      ]
     },
     "execution_count": 97,
     "metadata": {},
     "output_type": "execute_result"
    }
   ],
   "source": [
    "structured_response.diet_plan['Monday']['breakfast']"
   ]
  },
  {
   "cell_type": "code",
   "execution_count": 102,
   "id": "4a2f2e01-8f14-4ddf-a61f-0ab49fe49673",
   "metadata": {},
   "outputs": [
    {
     "data": {
      "text/plain": [
       "'Oatmeal with banana'"
      ]
     },
     "execution_count": 102,
     "metadata": {},
     "output_type": "execute_result"
    }
   ],
   "source": [
    "structured_response.diet_plan['Monday']['breakfast'][0]['item']"
   ]
  },
  {
   "cell_type": "code",
   "execution_count": 104,
   "id": "0a82b699-c6c0-4a14-beb5-ee212a8197ec",
   "metadata": {},
   "outputs": [
    {
     "data": {
      "text/plain": [
       "271.16"
      ]
     },
     "execution_count": 104,
     "metadata": {},
     "output_type": "execute_result"
    }
   ],
   "source": [
    "structured_response.diet_plan['Monday']['breakfast'][0]['calories']"
   ]
  }
 ],
 "metadata": {
  "kernelspec": {
   "display_name": "diet_planner",
   "language": "python",
   "name": "diet_planner"
  },
  "language_info": {
   "codemirror_mode": {
    "name": "ipython",
    "version": 3
   },
   "file_extension": ".py",
   "mimetype": "text/x-python",
   "name": "python",
   "nbconvert_exporter": "python",
   "pygments_lexer": "ipython3",
   "version": "3.10.6"
  }
 },
 "nbformat": 4,
 "nbformat_minor": 5
}
